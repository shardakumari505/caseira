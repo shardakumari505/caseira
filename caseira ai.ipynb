{
 "cells": [
  {
   "cell_type": "markdown",
   "metadata": {},
   "source": [
    "# <font color=purple>_MY PERSONAL ASSISTANT CASEIRA_</font>"
   ]
  },
  {
   "cell_type": "markdown",
   "metadata": {},
   "source": [
    "### Installing Packages Required"
   ]
  },
  {
   "cell_type": "code",
   "execution_count": 1,
   "metadata": {},
   "outputs": [
    {
     "name": "stdout",
     "output_type": "stream",
     "text": [
      "Requirement already satisfied: SpeechRecognition in c:\\users\\shard\\anaconda3\\lib\\site-packages (3.8.1)\n",
      "Note: you may need to restart the kernel to use updated packages.\n"
     ]
    }
   ],
   "source": [
    "pip install SpeechRecognition"
   ]
  },
  {
   "cell_type": "code",
   "execution_count": 2,
   "metadata": {},
   "outputs": [
    {
     "name": "stdout",
     "output_type": "stream",
     "text": [
      "Requirement already satisfied: pyttsx3 in c:\\users\\shard\\anaconda3\\lib\\site-packages (2.90)\n",
      "Requirement already satisfied: comtypes in c:\\users\\shard\\anaconda3\\lib\\site-packages (from pyttsx3) (1.1.9)\n",
      "Requirement already satisfied: pypiwin32 in c:\\users\\shard\\anaconda3\\lib\\site-packages (from pyttsx3) (223)\n",
      "Requirement already satisfied: pywin32 in c:\\users\\shard\\anaconda3\\lib\\site-packages (from pyttsx3) (227)\n",
      "Note: you may need to restart the kernel to use updated packages.\n"
     ]
    }
   ],
   "source": [
    "pip install pyttsx3"
   ]
  },
  {
   "cell_type": "code",
   "execution_count": 3,
   "metadata": {
    "scrolled": true
   },
   "outputs": [
    {
     "name": "stdout",
     "output_type": "stream",
     "text": [
      "Requirement already satisfied: wikipedia in c:\\users\\shard\\anaconda3\\lib\\site-packages (1.4.0)Note: you may need to restart the kernel to use updated packages.\n",
      "Requirement already satisfied: requests<3.0.0,>=2.0.0 in c:\\users\\shard\\anaconda3\\lib\\site-packages (from wikipedia) (2.25.1)\n",
      "Requirement already satisfied: beautifulsoup4 in c:\\users\\shard\\anaconda3\\lib\\site-packages (from wikipedia) (4.9.3)\n",
      "Requirement already satisfied: idna<3,>=2.5 in c:\\users\\shard\\anaconda3\\lib\\site-packages (from requests<3.0.0,>=2.0.0->wikipedia) (2.10)\n",
      "Requirement already satisfied: chardet<5,>=3.0.2 in c:\\users\\shard\\anaconda3\\lib\\site-packages (from requests<3.0.0,>=2.0.0->wikipedia) (4.0.0)\n",
      "Requirement already satisfied: certifi>=2017.4.17 in c:\\users\\shard\\anaconda3\\lib\\site-packages (from requests<3.0.0,>=2.0.0->wikipedia) (2020.12.5)\n",
      "Requirement already satisfied: urllib3<1.27,>=1.21.1 in c:\\users\\shard\\anaconda3\\lib\\site-packages (from requests<3.0.0,>=2.0.0->wikipedia) (1.26.4)\n",
      "Requirement already satisfied: soupsieve>1.2 in c:\\users\\shard\\anaconda3\\lib\\site-packages (from beautifulsoup4->wikipedia) (2.2.1)\n",
      "\n"
     ]
    }
   ],
   "source": [
    "pip install wikipedia"
   ]
  },
  {
   "cell_type": "code",
   "execution_count": 4,
   "metadata": {
    "scrolled": false
   },
   "outputs": [
    {
     "name": "stdout",
     "output_type": "stream",
     "text": [
      "Requirement already satisfied: scikit-image in c:\\users\\shard\\anaconda3\\lib\\site-packages (0.18.1)\n",
      "Requirement already satisfied: numpy>=1.16.5 in c:\\users\\shard\\anaconda3\\lib\\site-packages (from scikit-image) (1.20.1)\n",
      "Requirement already satisfied: scipy>=1.0.1 in c:\\users\\shard\\anaconda3\\lib\\site-packages (from scikit-image) (1.6.2)\n",
      "Requirement already satisfied: matplotlib!=3.0.0,>=2.0.0 in c:\\users\\shard\\anaconda3\\lib\\site-packages (from scikit-image) (3.3.4)\n",
      "Requirement already satisfied: networkx>=2.0 in c:\\users\\shard\\anaconda3\\lib\\site-packages (from scikit-image) (2.5)\n",
      "Requirement already satisfied: pillow!=7.1.0,!=7.1.1,>=4.3.0 in c:\\users\\shard\\anaconda3\\lib\\site-packages (from scikit-image) (8.2.0)\n",
      "Requirement already satisfied: imageio>=2.3.0 in c:\\users\\shard\\anaconda3\\lib\\site-packages (from scikit-image) (2.9.0)\n",
      "Requirement already satisfied: tifffile>=2019.7.26 in c:\\users\\shard\\anaconda3\\lib\\site-packages (from scikit-image) (2021.4.8)\n",
      "Requirement already satisfied: PyWavelets>=1.1.1 in c:\\users\\shard\\anaconda3\\lib\\site-packages (from scikit-image) (1.1.1)\n",
      "Requirement already satisfied: python-dateutil>=2.1 in c:\\users\\shard\\anaconda3\\lib\\site-packages (from matplotlib!=3.0.0,>=2.0.0->scikit-image) (2.8.1)\n",
      "Requirement already satisfied: pyparsing!=2.0.4,!=2.1.2,!=2.1.6,>=2.0.3 in c:\\users\\shard\\anaconda3\\lib\\site-packages (from matplotlib!=3.0.0,>=2.0.0->scikit-image) (2.4.7)\n",
      "Requirement already satisfied: cycler>=0.10 in c:\\users\\shard\\anaconda3\\lib\\site-packages (from matplotlib!=3.0.0,>=2.0.0->scikit-image) (0.10.0)\n",
      "Requirement already satisfied: kiwisolver>=1.0.1 in c:\\users\\shard\\anaconda3\\lib\\site-packages (from matplotlib!=3.0.0,>=2.0.0->scikit-image) (1.3.1)\n",
      "Requirement already satisfied: six in c:\\users\\shard\\anaconda3\\lib\\site-packages (from cycler>=0.10->matplotlib!=3.0.0,>=2.0.0->scikit-image) (1.15.0)\n",
      "Requirement already satisfied: decorator>=4.3.0 in c:\\users\\shard\\anaconda3\\lib\\site-packages (from networkx>=2.0->scikit-image) (5.0.6)\n",
      "Note: you may need to restart the kernel to use updated packages.\n"
     ]
    }
   ],
   "source": [
    "pip install scikit-image"
   ]
  },
  {
   "cell_type": "code",
   "execution_count": 5,
   "metadata": {
    "scrolled": false
   },
   "outputs": [
    {
     "name": "stdout",
     "output_type": "stream",
     "text": [
      "Requirement already satisfied: opencv-python in c:\\users\\shard\\anaconda3\\lib\\site-packages (4.5.5.62)\n",
      "Requirement already satisfied: numpy>=1.17.3 in c:\\users\\shard\\anaconda3\\lib\\site-packages (from opencv-python) (1.20.1)\n",
      "Note: you may need to restart the kernel to use updated packages.\n"
     ]
    }
   ],
   "source": [
    "pip install opencv-python"
   ]
  },
  {
   "cell_type": "code",
   "execution_count": 6,
   "metadata": {
    "scrolled": true
   },
   "outputs": [
    {
     "name": "stdout",
     "output_type": "stream",
     "text": [
      "Requirement already satisfied: wolframalpha in c:\\users\\shard\\anaconda3\\lib\\site-packages (5.0.0)\n",
      "Requirement already satisfied: xmltodict in c:\\users\\shard\\anaconda3\\lib\\site-packages (from wolframalpha) (0.12.0)\n",
      "Requirement already satisfied: more-itertools in c:\\users\\shard\\anaconda3\\lib\\site-packages (from wolframalpha) (8.7.0)\n",
      "Requirement already satisfied: jaraco.context in c:\\users\\shard\\anaconda3\\lib\\site-packages (from wolframalpha) (4.1.1)\n",
      "Note: you may need to restart the kernel to use updated packages.\n"
     ]
    }
   ],
   "source": [
    "pip install wolframalpha"
   ]
  },
  {
   "cell_type": "code",
   "execution_count": 7,
   "metadata": {},
   "outputs": [
    {
     "name": "stdout",
     "output_type": "stream",
     "text": [
      "\n",
      "Note: you may need to restart the kernel to use updated packages.\n"
     ]
    },
    {
     "name": "stderr",
     "output_type": "stream",
     "text": [
      "Warning: 'conda-forge' already in 'channels' list, moving to the top\n"
     ]
    }
   ],
   "source": [
    "conda config --add channels conda-forge "
   ]
  },
  {
   "cell_type": "code",
   "execution_count": 8,
   "metadata": {},
   "outputs": [
    {
     "name": "stdout",
     "output_type": "stream",
     "text": [
      "Collecting package metadata (current_repodata.json): ...working... done\n",
      "Solving environment: ...working... done\n",
      "\n",
      "# All requested packages already installed.\n",
      "\n",
      "\n",
      "Note: you may need to restart the kernel to use updated packages.\n"
     ]
    }
   ],
   "source": [
    "conda install pyaudio"
   ]
  },
  {
   "cell_type": "code",
   "execution_count": 9,
   "metadata": {
    "scrolled": true
   },
   "outputs": [
    {
     "name": "stdout",
     "output_type": "stream",
     "text": [
      "Requirement already satisfied: python-google-calendar-api in c:\\users\\shard\\anaconda3\\lib\\site-packages (0.5)\n",
      "Requirement already satisfied: pytz in c:\\users\\shard\\anaconda3\\lib\\site-packages (from python-google-calendar-api) (2021.1)\n",
      "Requirement already satisfied: google-api-python-client in c:\\users\\shard\\anaconda3\\lib\\site-packages (from python-google-calendar-api) (2.34.0)\n",
      "Requirement already satisfied: pyOpenSSL in c:\\users\\shard\\anaconda3\\lib\\site-packages (from python-google-calendar-api) (20.0.1)\n",
      "Requirement already satisfied: google-auth-httplib2>=0.1.0 in c:\\users\\shard\\anaconda3\\lib\\site-packages (from google-api-python-client->python-google-calendar-api) (0.1.0)\n",
      "Requirement already satisfied: google-auth<3.0.0dev,>=1.16.0 in c:\\users\\shard\\anaconda3\\lib\\site-packages (from google-api-python-client->python-google-calendar-api) (2.3.3)\n",
      "Requirement already satisfied: uritemplate<5,>=3.0.1 in c:\\users\\shard\\anaconda3\\lib\\site-packages (from google-api-python-client->python-google-calendar-api) (4.1.1)\n",
      "Requirement already satisfied: httplib2<1dev,>=0.15.0 in c:\\users\\shard\\anaconda3\\lib\\site-packages (from google-api-python-client->python-google-calendar-api) (0.20.2)\n",
      "Requirement already satisfied: google-api-core<3.0.0dev,>=1.21.0 in c:\\users\\shard\\anaconda3\\lib\\site-packages (from google-api-python-client->python-google-calendar-api) (2.3.2)\n",
      "Requirement already satisfied: requests<3.0.0dev,>=2.18.0 in c:\\users\\shard\\anaconda3\\lib\\site-packages (from google-api-core<3.0.0dev,>=1.21.0->google-api-python-client->python-google-calendar-api) (2.25.1)\n",
      "Requirement already satisfied: googleapis-common-protos<2.0dev,>=1.52.0 in c:\\users\\shard\\anaconda3\\lib\\site-packages (from google-api-core<3.0.0dev,>=1.21.0->google-api-python-client->python-google-calendar-api) (1.54.0)\n",
      "Requirement already satisfied: setuptools>=40.3.0 in c:\\users\\shard\\anaconda3\\lib\\site-packages (from google-api-core<3.0.0dev,>=1.21.0->google-api-python-client->python-google-calendar-api) (52.0.0.post20210125)\n",
      "Requirement already satisfied: protobuf>=3.12.0 in c:\\users\\shard\\anaconda3\\lib\\site-packages (from google-api-core<3.0.0dev,>=1.21.0->google-api-python-client->python-google-calendar-api) (3.19.1)\n",
      "Requirement already satisfied: rsa<5,>=3.1.4 in c:\\users\\shard\\anaconda3\\lib\\site-packages (from google-auth<3.0.0dev,>=1.16.0->google-api-python-client->python-google-calendar-api) (4.8)\n",
      "Requirement already satisfied: six>=1.9.0 in c:\\users\\shard\\anaconda3\\lib\\site-packages (from google-auth<3.0.0dev,>=1.16.0->google-api-python-client->python-google-calendar-api) (1.15.0)\n",
      "Requirement already satisfied: cachetools<5.0,>=2.0.0 in c:\\users\\shard\\anaconda3\\lib\\site-packages (from google-auth<3.0.0dev,>=1.16.0->google-api-python-client->python-google-calendar-api) (4.2.4)\n",
      "Requirement already satisfied: pyasn1-modules>=0.2.1 in c:\\users\\shard\\anaconda3\\lib\\site-packages (from google-auth<3.0.0dev,>=1.16.0->google-api-python-client->python-google-calendar-api) (0.2.8)\n",
      "Requirement already satisfied: pyparsing!=3.0.0,!=3.0.1,!=3.0.2,!=3.0.3,<4,>=2.4.2 in c:\\users\\shard\\anaconda3\\lib\\site-packages (from httplib2<1dev,>=0.15.0->google-api-python-client->python-google-calendar-api) (2.4.7)\n",
      "Requirement already satisfied: pyasn1<0.5.0,>=0.4.6 in c:\\users\\shard\\anaconda3\\lib\\site-packages (from pyasn1-modules>=0.2.1->google-auth<3.0.0dev,>=1.16.0->google-api-python-client->python-google-calendar-api) (0.4.8)\n",
      "Requirement already satisfied: urllib3<1.27,>=1.21.1 in c:\\users\\shard\\anaconda3\\lib\\site-packages (from requests<3.0.0dev,>=2.18.0->google-api-core<3.0.0dev,>=1.21.0->google-api-python-client->python-google-calendar-api) (1.26.4)\n",
      "Requirement already satisfied: chardet<5,>=3.0.2 in c:\\users\\shard\\anaconda3\\lib\\site-packages (from requests<3.0.0dev,>=2.18.0->google-api-core<3.0.0dev,>=1.21.0->google-api-python-client->python-google-calendar-api) (4.0.0)\n",
      "Requirement already satisfied: certifi>=2017.4.17 in c:\\users\\shard\\anaconda3\\lib\\site-packages (from requests<3.0.0dev,>=2.18.0->google-api-core<3.0.0dev,>=1.21.0->google-api-python-client->python-google-calendar-api) (2020.12.5)\n",
      "Requirement already satisfied: idna<3,>=2.5 in c:\\users\\shard\\anaconda3\\lib\\site-packages (from requests<3.0.0dev,>=2.18.0->google-api-core<3.0.0dev,>=1.21.0->google-api-python-client->python-google-calendar-api) (2.10)\n",
      "Requirement already satisfied: cryptography>=3.2 in c:\\users\\shard\\anaconda3\\lib\\site-packages (from pyOpenSSL->python-google-calendar-api) (3.4.7)\n",
      "Requirement already satisfied: cffi>=1.12 in c:\\users\\shard\\anaconda3\\lib\\site-packages (from cryptography>=3.2->pyOpenSSL->python-google-calendar-api) (1.14.5)\n",
      "Requirement already satisfied: pycparser in c:\\users\\shard\\anaconda3\\lib\\site-packages (from cffi>=1.12->cryptography>=3.2->pyOpenSSL->python-google-calendar-api) (2.20)\n",
      "Note: you may need to restart the kernel to use updated packages.\n"
     ]
    }
   ],
   "source": [
    "pip install python-google-calendar-api"
   ]
  },
  {
   "cell_type": "code",
   "execution_count": 10,
   "metadata": {},
   "outputs": [
    {
     "name": "stdout",
     "output_type": "stream",
     "text": [
      "Requirement already satisfied: pyjokes in c:\\users\\shard\\anaconda3\\lib\\site-packages (0.6.0)\n",
      "Note: you may need to restart the kernel to use updated packages.\n"
     ]
    }
   ],
   "source": [
    "pip install pyjokes"
   ]
  },
  {
   "cell_type": "markdown",
   "metadata": {},
   "source": [
    "### Importing all the Installed Packages"
   ]
  },
  {
   "cell_type": "code",
   "execution_count": 11,
   "metadata": {},
   "outputs": [],
   "source": [
    "import speech_recognition as sr\n",
    "import pyttsx3\n",
    "import datetime\n",
    "import wikipedia\n",
    "import webbrowser\n",
    "import os\n",
    "import time\n",
    "import subprocess\n",
    "import numpy\n",
    "import scipy\n",
    "import cv2\n",
    "import wolframalpha\n",
    "import json\n",
    "import requests\n",
    "import pyaudio\n",
    "import pyjokes"
   ]
  },
  {
   "cell_type": "markdown",
   "metadata": {},
   "source": [
    "### Running codes for Caseira to work"
   ]
  },
  {
   "cell_type": "code",
   "execution_count": 12,
   "metadata": {},
   "outputs": [
    {
     "name": "stdout",
     "output_type": "stream",
     "text": [
      "Loading your AI personal assistant caseira\n",
      "Hello,Good Afternoon\n",
      "Listening...\n",
      "user said:Kaise rahun video\n",
      "\n",
      "Listening...\n",
      "user said:Kaise Rahu Mai due\n",
      "\n",
      "Listening...\n",
      "user said:who made you consider\n",
      "\n",
      "I was built by Sharda in october 2020.\n",
      "Listening...\n",
      "user said:kya sairat tell me a joke\n",
      "\n",
      "If you play a Windows CD backwards, you'll hear satanic chanting ... worse still, if you play it forwards, it installs Windows.\n",
      "Listening...\n",
      "user said:Kaise Rah good bye\n",
      "\n",
      "Listening...\n",
      "user said:Kaise Rah good bye\n",
      "\n",
      "Listening...\n",
      "Listening...\n",
      "user said:goodbye\n",
      "\n",
      "your personal assistant caseira is shutting down , Good bye\n"
     ]
    }
   ],
   "source": [
    "engine=pyttsx3.init()\n",
    "voices = engine.getProperty('voices')\n",
    "engine.setProperty('voice', voices[1].id)\n",
    "\n",
    "\n",
    "\n",
    "def speak(text):\n",
    "    engine.say(text)\n",
    "    engine.runAndWait()\n",
    "\n",
    "\n",
    "\n",
    "\n",
    "def wishMe():\n",
    "    hour=datetime.datetime.now().hour\n",
    "    if hour>=4 and hour<12:\n",
    "        speak(\"Hello,Good Morning Sharda\")\n",
    "        print(\"Hello,Good Morning\")\n",
    "    elif hour>=12 and hour<18:\n",
    "        speak(\"Hello,Good Afternoon Sharda\")\n",
    "        print(\"Hello,Good Afternoon\")\n",
    "    else:\n",
    "        speak(\"Hello,Good Evening Sharda\")\n",
    "        print(\"Hello,Good Evening\")\n",
    "\n",
    "    \n",
    "\n",
    "        \n",
    "        \n",
    "\n",
    "        \n",
    "def takeCommand():\n",
    "    r=sr.Recognizer()\n",
    "    with sr.Microphone() as source:\n",
    "        print(\"Listening...\")\n",
    "        audio=r.listen(source)\n",
    "\n",
    "        try:\n",
    "            statement=r.recognize_google(audio,language='en-in')\n",
    "            print(f\"user said:{statement}\\n\")\n",
    "\n",
    "        except Exception as e:\n",
    "            speak(\"Pardon me, please say that again\")\n",
    "            return \"None\"\n",
    "        return statement\n",
    "\n",
    "print(\"Loading your AI personal assistant caseira\")\n",
    "speak(\"Loading your AI personal assistant caseira\")\n",
    "wishMe()\n",
    "\n",
    "\n",
    "\n",
    "\n",
    "\n",
    "\n",
    "if __name__=='__main__':\n",
    "\n",
    "\n",
    "    while True:\n",
    "        speak(\"Tell me how can I help you now?\")\n",
    "        statement = takeCommand().lower()\n",
    "        if statement==0:\n",
    "            continue\n",
    "        if \"goodbye\" in statement or \"ok bye\" in statement or \"stop\" in statement:\n",
    "            speak('your personal assistant caseira is shutting down , Good bye')\n",
    "            print('your personal assistant caseira is shutting down , Good bye')\n",
    "            break\n",
    "            \n",
    "        if 'schedule' in statement:\n",
    "            webbrowser.open_new_tab(\"https://calendar.google.com/calendar/u/0/r/day?tab=wc&pli=1\")\n",
    "            speak(\"Your schedule for today is\")\n",
    "            time.sleep(5)\n",
    "         \n",
    "            \n",
    "         \n",
    "        if 'wikipedia' in statement:\n",
    "            speak('Searching Wikipedia...')\n",
    "            statement =statement.replace(\"wikipedia\", \"\")\n",
    "            results = wikipedia.summary(statement, sentences=5)\n",
    "            speak(\"According to Wikipedia\")\n",
    "            print(results)\n",
    "            speak(results)\n",
    "        elif 'open youtube' in statement:\n",
    "            webbrowser.open_new_tab(\"https://www.youtube.com\")\n",
    "            speak(\"youtube is open now\")\n",
    "            time.sleep(5)\n",
    "\n",
    "        elif 'open google' in statement:\n",
    "            webbrowser.open_new_tab(\"https://www.google.com\")\n",
    "            speak(\"Google chrome is open now\")\n",
    "            time.sleep(5)\n",
    "\n",
    "        elif 'open gmail' in statement:\n",
    "            webbrowser.open_new_tab(\"gmail.com\")\n",
    "            speak(\"Google Mail open now\")\n",
    "            time.sleep(5)\n",
    "        elif 'time' in statement:\n",
    "            strTime=datetime.datetime.now().strftime(\"%H:%M:%S\")\n",
    "            speak(f\"the time is {strTime}\")\n",
    "        elif 'news' in statement:\n",
    "            news = webbrowser.open_new_tab(\"https://timesofindia.indiatimes.com/home/headlines\")\n",
    "            speak('Here are some headlines from the Times of India,Happy reading')\n",
    "            time.sleep(6)\n",
    "            \n",
    "        elif 'joke' in statement or 'jokes' in statement or 'laugh' in statement:\n",
    "            result=pyjokes.get_joke(language='en' , category='all')\n",
    "            print(result)\n",
    "            speak(result)\n",
    "\n",
    "        elif 'search'  in statement:\n",
    "            statement = statement.replace(\"search\", \"\")\n",
    "            webbrowser.open_new_tab(statement)\n",
    "            time.sleep(5)\t\n",
    "        elif 'ask' in statement:\n",
    "            speak('I can answer to computational and geographical questions  and what question do you want to ask now')\n",
    "            question=takeCommand()\n",
    "            app_id=\"Paste your unique ID here \"\n",
    "            client = wolframalpha.Client('R2K75H-7ELALHR35X')\n",
    "            res = client.query(question)\n",
    "            answer = next(res.results).text\n",
    "            speak(answer)\n",
    "            print(answer)\n",
    "        elif 'who are you' in statement or 'what can you do' in statement:\n",
    "            speak('I am caseira version 1 point O your personal assistant. I am programmed to minor tasks like'\n",
    "                  'opening youtube,google chrome, gmail,predict time,take a photo,search wikipedia,predict weather' \n",
    "                  'In different cities, get top headline news from times of india and you can ask me computational or geographical questions too!.Besides all of this features I also have a talent of entertaining you with my jokes on being asked.')\n",
    "\n",
    "\n",
    "        elif \"who made you\" in statement or \"who created you\" in statement or \"who discovered you\" in statement:\n",
    "            speak(\"I was built by Sharda in october 2020.\")\n",
    "            print(\"I was built by Sharda in october 2020.\")\n",
    "        elif \"log off\" in statement or \"sign out\" in statement:\n",
    "            speak(\"Ok , your pc will log off in 10 sec make sure you exit from all applications\")\n",
    "            subprocess.call([\"shutdown\", \"/1\"])\n",
    "\t\t\t\n",
    "time.sleep(3)"
   ]
  }
 ],
 "metadata": {
  "kernelspec": {
   "display_name": "Python 3",
   "language": "python",
   "name": "python3"
  },
  "language_info": {
   "codemirror_mode": {
    "name": "ipython",
    "version": 3
   },
   "file_extension": ".py",
   "mimetype": "text/x-python",
   "name": "python",
   "nbconvert_exporter": "python",
   "pygments_lexer": "ipython3",
   "version": "3.8.8"
  }
 },
 "nbformat": 4,
 "nbformat_minor": 4
}
