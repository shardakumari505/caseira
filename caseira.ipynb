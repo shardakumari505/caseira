{
 "cells": [
  {
   "cell_type": "code",
   "execution_count": null,
   "metadata": {},
   "outputs": [],
   "source": [
    "pip install SpeechRecognition"
   ]
  },
  {
   "cell_type": "code",
   "execution_count": null,
   "metadata": {},
   "outputs": [],
   "source": [
    "pip install pyttsx3"
   ]
  },
  {
   "cell_type": "code",
   "execution_count": null,
   "metadata": {
    "scrolled": true
   },
   "outputs": [],
   "source": [
    "pip install wikipedia"
   ]
  },
  {
   "cell_type": "code",
   "execution_count": null,
   "metadata": {
    "scrolled": false
   },
   "outputs": [],
   "source": [
    "pip install scikit-image"
   ]
  },
  {
   "cell_type": "code",
   "execution_count": null,
   "metadata": {
    "scrolled": false
   },
   "outputs": [],
   "source": [
    "pip install opencv-python"
   ]
  },
  {
   "cell_type": "code",
   "execution_count": null,
   "metadata": {
    "scrolled": true
   },
   "outputs": [],
   "source": [
    "pip install wolframalpha"
   ]
  },
  {
   "cell_type": "code",
   "execution_count": null,
   "metadata": {},
   "outputs": [],
   "source": [
    "conda config --add channels conda-forge "
   ]
  },
  {
   "cell_type": "code",
   "execution_count": null,
   "metadata": {},
   "outputs": [],
   "source": [
    "conda install pyaudio"
   ]
  },
  {
   "cell_type": "code",
   "execution_count": 18,
   "metadata": {
    "scrolled": true
   },
   "outputs": [
    {
     "name": "stdout",
     "output_type": "stream",
     "text": [
      "Collecting python-google-calendar-apiNote: you may need to restart the kernel to use updated packages.\n",
      "  Downloading python_google_calendar_api-0.5-py3-none-any.whl (4.5 kB)\n",
      "Requirement already satisfied: pytz in c:\\programdata\\anaconda3\\lib\\site-packages (from python-google-calendar-api) (2020.1)\n",
      "Collecting google-api-python-client\n",
      "  Downloading google_api_python_client-2.9.0-py2.py3-none-any.whl (7.0 MB)\n",
      "Requirement already satisfied: pyOpenSSL in c:\\programdata\\anaconda3\\lib\\site-packages (from python-google-calendar-api) (19.1.0)\n",
      "Requirement already satisfied: six<2dev,>=1.13.0 in c:\\programdata\\anaconda3\\lib\\site-packages (from google-api-python-client->python-google-calendar-api) (1.15.0)\n",
      "Collecting google-auth<2dev,>=1.16.0\n",
      "  Downloading google_auth-1.31.0-py2.py3-none-any.whl (147 kB)\n",
      "Collecting google-api-core<2dev,>=1.21.0\n",
      "  Downloading google_api_core-1.30.0-py2.py3-none-any.whl (93 kB)\n",
      "Collecting google-auth-httplib2>=0.1.0\n",
      "  Downloading google_auth_httplib2-0.1.0-py2.py3-none-any.whl (9.3 kB)\n",
      "Collecting httplib2<1dev,>=0.15.0\n",
      "  Downloading httplib2-0.19.1-py3-none-any.whl (95 kB)\n",
      "Collecting uritemplate<4dev,>=3.0.0\n",
      "  Downloading uritemplate-3.0.1-py2.py3-none-any.whl (15 kB)\n",
      "Requirement already satisfied: cryptography>=2.8 in c:\\programdata\\anaconda3\\lib\\site-packages (from pyOpenSSL->python-google-calendar-api) (3.1.1)\n",
      "Collecting rsa<5,>=3.1.4; python_version >= \"3.6\"\n",
      "  Downloading rsa-4.7.2-py3-none-any.whl (34 kB)\n",
      "Collecting pyasn1-modules>=0.2.1\n",
      "  Downloading pyasn1_modules-0.2.8-py2.py3-none-any.whl (155 kB)\n",
      "Requirement already satisfied: setuptools>=40.3.0 in c:\\programdata\\anaconda3\\lib\\site-packages (from google-auth<2dev,>=1.16.0->google-api-python-client->python-google-calendar-api) (50.3.1.post20201107)\n",
      "Collecting cachetools<5.0,>=2.0.0\n",
      "  Downloading cachetools-4.2.2-py3-none-any.whl (11 kB)\n",
      "Collecting protobuf>=3.12.0\n",
      "  Downloading protobuf-3.17.3-py2.py3-none-any.whl (173 kB)\n",
      "Requirement already satisfied: packaging>=14.3 in c:\\programdata\\anaconda3\\lib\\site-packages (from google-api-core<2dev,>=1.21.0->google-api-python-client->python-google-calendar-api) (20.4)\n",
      "Collecting googleapis-common-protos<2.0dev,>=1.6.0\n",
      "  Downloading googleapis_common_protos-1.53.0-py2.py3-none-any.whl (198 kB)\n",
      "Requirement already satisfied: requests<3.0.0dev,>=2.18.0 in c:\\programdata\\anaconda3\\lib\\site-packages (from google-api-core<2dev,>=1.21.0->google-api-python-client->python-google-calendar-api) (2.24.0)\n",
      "Requirement already satisfied: pyparsing<3,>=2.4.2 in c:\\programdata\\anaconda3\\lib\\site-packages (from httplib2<1dev,>=0.15.0->google-api-python-client->python-google-calendar-api) (2.4.7)\n",
      "Requirement already satisfied: cffi!=1.11.3,>=1.8 in c:\\programdata\\anaconda3\\lib\\site-packages (from cryptography>=2.8->pyOpenSSL->python-google-calendar-api) (1.14.3)\n",
      "Collecting pyasn1>=0.1.3\n",
      "  Downloading pyasn1-0.4.8-py2.py3-none-any.whl (77 kB)\n",
      "Requirement already satisfied: certifi>=2017.4.17 in c:\\programdata\\anaconda3\\lib\\site-packages (from requests<3.0.0dev,>=2.18.0->google-api-core<2dev,>=1.21.0->google-api-python-client->python-google-calendar-api) (2020.6.20)\n",
      "Requirement already satisfied: idna<3,>=2.5 in c:\\programdata\\anaconda3\\lib\\site-packages (from requests<3.0.0dev,>=2.18.0->google-api-core<2dev,>=1.21.0->google-api-python-client->python-google-calendar-api) (2.10)\n",
      "Requirement already satisfied: urllib3!=1.25.0,!=1.25.1,<1.26,>=1.21.1 in c:\\programdata\\anaconda3\\lib\\site-packages (from requests<3.0.0dev,>=2.18.0->google-api-core<2dev,>=1.21.0->google-api-python-client->python-google-calendar-api) (1.25.11)\n",
      "Requirement already satisfied: chardet<4,>=3.0.2 in c:\\programdata\\anaconda3\\lib\\site-packages (from requests<3.0.0dev,>=2.18.0->google-api-core<2dev,>=1.21.0->google-api-python-client->python-google-calendar-api) (3.0.4)\n",
      "Requirement already satisfied: pycparser in c:\\programdata\\anaconda3\\lib\\site-packages (from cffi!=1.11.3,>=1.8->cryptography>=2.8->pyOpenSSL->python-google-calendar-api) (2.20)\n",
      "Installing collected packages: pyasn1, rsa, pyasn1-modules, cachetools, google-auth, protobuf, googleapis-common-protos, google-api-core, httplib2, google-auth-httplib2, uritemplate, google-api-python-client, python-google-calendar-api\n",
      "Successfully installed cachetools-4.2.2 google-api-core-1.30.0 google-api-python-client-2.9.0 google-auth-1.31.0 google-auth-httplib2-0.1.0 googleapis-common-protos-1.53.0 httplib2-0.19.1 protobuf-3.17.3 pyasn1-0.4.8 pyasn1-modules-0.2.8 python-google-calendar-api-0.5 rsa-4.7.2 uritemplate-3.0.1\n",
      "\n"
     ]
    }
   ],
   "source": [
    "pip install python-google-calendar-api"
   ]
  },
  {
   "cell_type": "code",
   "execution_count": 31,
   "metadata": {},
   "outputs": [
    {
     "name": "stdout",
     "output_type": "stream",
     "text": [
      "Collecting pyjokesNote: you may need to restart the kernel to use updated packages.\n",
      "  Downloading pyjokes-0.6.0-py2.py3-none-any.whl (26 kB)\n",
      "Installing collected packages: pyjokes\n",
      "Successfully installed pyjokes-0.6.0\n",
      "\n"
     ]
    }
   ],
   "source": [
    "pip install pyjokes"
   ]
  },
  {
   "cell_type": "code",
   "execution_count": 40,
   "metadata": {},
   "outputs": [],
   "source": [
    "import speech_recognition as sr\n",
    "import pyttsx3\n",
    "import datetime\n",
    "import wikipedia\n",
    "import webbrowser\n",
    "import os\n",
    "import time\n",
    "import subprocess\n",
    "import numpy\n",
    "import scipy\n",
    "import cv2\n",
    "import wolframalpha\n",
    "import json\n",
    "import requests\n",
    "import pyaudio\n",
    "import pyjokes"
   ]
  },
  {
   "cell_type": "code",
   "execution_count": 41,
   "metadata": {},
   "outputs": [
    {
     "name": "stdout",
     "output_type": "stream",
     "text": [
      "Loading your AI personal assistant caseira\n",
      "Hello,Good Evening\n",
      "Listening...\n",
      "user said:tell me a joke\n",
      "\n",
      "Chuck Norris's calculator has only 3 keys: 0, 1, and NAND.\n",
      "Listening...\n",
      "Listening...\n",
      "user said:tell me a joke\n",
      "\n",
      "Chuck Norris can write to an output stream.\n",
      "Listening...\n",
      "Listening...\n",
      "user said:goodbye\n",
      "\n",
      "your personal assistant caseira is shutting down , Good bye\n"
     ]
    }
   ],
   "source": [
    "engine=pyttsx3.init()\n",
    "voices = engine.getProperty('voices')\n",
    "engine.setProperty('voice', voices[1].id)\n",
    "\n",
    "\n",
    "\n",
    "def speak(text):\n",
    "    engine.say(text)\n",
    "    engine.runAndWait()\n",
    "\n",
    "\n",
    "\n",
    "\n",
    "def wishMe():\n",
    "    hour=datetime.datetime.now().hour\n",
    "    if hour>=4 and hour<12:\n",
    "        speak(\"Hello,Good Morning Sharda\")\n",
    "        print(\"Hello,Good Morning\")\n",
    "    elif hour>=12 and hour<18:\n",
    "        speak(\"Hello,Good Afternoon\")\n",
    "        print(\"Hello,Good Afternoon\")\n",
    "    else:\n",
    "        speak(\"Hello,Good Evening\")\n",
    "        print(\"Hello,Good Evening\")\n",
    "\n",
    "    \n",
    "\n",
    "        \n",
    "        \n",
    "\n",
    "        \n",
    "def takeCommand():\n",
    "    r=sr.Recognizer()\n",
    "    with sr.Microphone() as source:\n",
    "        print(\"Listening...\")\n",
    "        audio=r.listen(source)\n",
    "\n",
    "        try:\n",
    "            statement=r.recognize_google(audio,language='en-in')\n",
    "            print(f\"user said:{statement}\\n\")\n",
    "\n",
    "        except Exception as e:\n",
    "            speak(\"Pardon me, please say that again\")\n",
    "            return \"None\"\n",
    "        return statement\n",
    "\n",
    "print(\"Loading your AI personal assistant caseira\")\n",
    "speak(\"Loading your AI personal assistant caseira\")\n",
    "wishMe()\n",
    "\n",
    "\n",
    "\n",
    "\n",
    "\n",
    "\n",
    "if __name__=='__main__':\n",
    "\n",
    "\n",
    "    while True:\n",
    "        speak(\"Tell me how can I help you now?\")\n",
    "        statement = takeCommand().lower()\n",
    "        if statement==0:\n",
    "            continue\n",
    "        if \"goodbye\" in statement or \"ok bye\" in statement or \"stop\" in statement:\n",
    "            speak('your personal assistant caseira is shutting down , Good bye')\n",
    "            print('your personal assistant caseira is shutting down , Good bye')\n",
    "            break\n",
    "            \n",
    "        if 'schedule' in statement:\n",
    "            webbrowser.open_new_tab(\"https://calendar.google.com/calendar/u/0/r/day?tab=wc&pli=1\")\n",
    "            speak(\"Your schedule for today is\")\n",
    "            time.sleep(5)\n",
    "         \n",
    "            \n",
    "         \n",
    "        if 'wikipedia' in statement:\n",
    "            speak('Searching Wikipedia...')\n",
    "            statement =statement.replace(\"wikipedia\", \"\")\n",
    "            results = wikipedia.summary(statement, sentences=3)\n",
    "            speak(\"According to Wikipedia\")\n",
    "            print(results)\n",
    "            speak(results)\n",
    "        elif 'open youtube' in statement:\n",
    "            webbrowser.open_new_tab(\"https://www.youtube.com\")\n",
    "            speak(\"youtube is open now\")\n",
    "            time.sleep(5)\n",
    "\n",
    "        elif 'open google' in statement:\n",
    "            webbrowser.open_new_tab(\"https://www.google.com\")\n",
    "            speak(\"Google chrome is open now\")\n",
    "            time.sleep(5)\n",
    "\n",
    "        elif 'open gmail' in statement:\n",
    "            webbrowser.open_new_tab(\"gmail.com\")\n",
    "            speak(\"Google Mail open now\")\n",
    "            time.sleep(5)\n",
    "        elif 'time' in statement:\n",
    "            strTime=datetime.datetime.now().strftime(\"%H:%M:%S\")\n",
    "            speak(f\"the time is {strTime}\")\n",
    "        elif 'news' in statement:\n",
    "            news = webbrowser.open_new_tab(\"https://timesofindia.indiatimes.com/home/headlines\")\n",
    "            speak('Here are some headlines from the Times of India,Happy reading')\n",
    "            time.sleep(6)\n",
    "            \n",
    "        elif 'joke' in statement or 'jokes' in statement or 'laugh' in statement:\n",
    "            result=pyjokes.get_joke(language='en' , category='all')\n",
    "            print(result)\n",
    "            speak(result)\n",
    "\n",
    "        elif 'search'  in statement:\n",
    "            statement = statement.replace(\"search\", \"\")\n",
    "            webbrowser.open_new_tab(statement)\n",
    "            time.sleep(5)\t\n",
    "        elif 'ask' in statement:\n",
    "            speak('I can answer to computational and geographical questions  and what question do you want to ask now')\n",
    "            question=takeCommand()\n",
    "            app_id=\"Paste your unique ID here \"\n",
    "            client = wolframalpha.Client('R2K75H-7ELALHR35X')\n",
    "            res = client.query(question)\n",
    "            answer = next(res.results).text\n",
    "            speak(answer)\n",
    "            print(answer)\n",
    "        elif 'who are you' in statement or 'what can you do' in statement:\n",
    "            speak('I am caseira version 1 point O your personal assistant. I am programmed to minor tasks like'\n",
    "                  'opening youtube,google chrome, gmail and stackoverflow ,predict time,take a photo,search wikipedia,predict weather' \n",
    "                  'In different cities, get top headline news from times of india and you can ask me computational or geographical questions too!')\n",
    "\n",
    "\n",
    "        elif \"who made you\" in statement or \"who created you\" in statement or \"who discovered you\" in statement:\n",
    "            speak(\"I was built by Sharda\")\n",
    "            print(\"I was built by Sharda\")\n",
    "        elif \"log off\" in statement or \"sign out\" in statement:\n",
    "            speak(\"Ok , your pc will log off in 10 sec make sure you exit from all applications\")\n",
    "            subprocess.call([\"shutdown\", \"/1\"])\n",
    "\t\t\t\n",
    "time.sleep(3)"
   ]
  },
  {
   "cell_type": "code",
   "execution_count": null,
   "metadata": {},
   "outputs": [],
   "source": []
  }
 ],
 "metadata": {
  "kernelspec": {
   "display_name": "Python 3",
   "language": "python",
   "name": "python3"
  },
  "language_info": {
   "codemirror_mode": {
    "name": "ipython",
    "version": 3
   },
   "file_extension": ".py",
   "mimetype": "text/x-python",
   "name": "python",
   "nbconvert_exporter": "python",
   "pygments_lexer": "ipython3",
   "version": "3.8.5"
  }
 },
 "nbformat": 4,
 "nbformat_minor": 4
}
